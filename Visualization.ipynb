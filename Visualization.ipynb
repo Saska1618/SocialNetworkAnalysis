{
 "cells": [
  {
   "cell_type": "code",
   "execution_count": 4,
   "id": "e54cca7b-073f-4c78-a377-3bbbeec8d5ba",
   "metadata": {},
   "outputs": [],
   "source": [
    "import networkx as nx"
   ]
  },
  {
   "cell_type": "code",
   "execution_count": 5,
   "id": "97f7ae53-4014-4856-92a0-78c4a99af3ec",
   "metadata": {},
   "outputs": [],
   "source": [
    "G_erdos = nx.read_gml('erdos_renyi_random.gml')\n",
    "A = nx.nx_agraph.to_agraph(G_erdos)\n",
    "A.draw('erdos.png', prog='neato')\n"
   ]
  },
  {
   "cell_type": "code",
   "execution_count": null,
   "id": "2b81bb38-23f4-408b-8b31-e1ff5d1e82f1",
   "metadata": {},
   "outputs": [],
   "source": []
  }
 ],
 "metadata": {
  "kernelspec": {
   "display_name": "Python 3 (ipykernel)",
   "language": "python",
   "name": "python3"
  },
  "language_info": {
   "codemirror_mode": {
    "name": "ipython",
    "version": 3
   },
   "file_extension": ".py",
   "mimetype": "text/x-python",
   "name": "python",
   "nbconvert_exporter": "python",
   "pygments_lexer": "ipython3",
   "version": "3.12.9"
  }
 },
 "nbformat": 4,
 "nbformat_minor": 5
}
